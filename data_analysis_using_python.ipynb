{
 "cells": [
  {
   "cell_type": "markdown",
   "metadata": {},
   "source": [
    "# Grocery store Problem: Solved "
   ]
  },
  {
   "cell_type": "markdown",
   "metadata": {},
   "source": [
    "Store input data in variables"
   ]
  },
  {
   "cell_type": "code",
   "execution_count": 3,
   "metadata": {},
   "outputs": [],
   "source": [
    "cost_of_ice_bag = 1.25"
   ]
  },
  {
   "cell_type": "code",
   "execution_count": 4,
   "metadata": {},
   "outputs": [],
   "source": [
    "profit_margin = .2"
   ]
  },
  {
   "cell_type": "code",
   "execution_count": 5,
   "metadata": {},
   "outputs": [],
   "source": [
    "number_of_bags = 500"
   ]
  },
  {
   "cell_type": "markdown",
   "metadata": {},
   "source": [
    "Perform the required calculation"
   ]
  },
  {
   "cell_type": "code",
   "execution_count": 12,
   "metadata": {},
   "outputs": [],
   "source": [
    "profit_per_bag = cost_of_ice_bag * profit_margin"
   ]
  },
  {
   "cell_type": "code",
   "execution_count": 13,
   "metadata": {},
   "outputs": [],
   "source": [
    "total_profit = number_of_bags * profit_per_bag"
   ]
  },
  {
   "cell_type": "markdown",
   "metadata": {},
   "source": [
    "Display the result"
   ]
  },
  {
   "cell_type": "code",
   "execution_count": 15,
   "metadata": {},
   "outputs": [
    {
     "name": "stdout",
     "output_type": "stream",
     "text": [
      "The grocery store makes a total profit of $ 125.0\n"
     ]
    }
   ],
   "source": [
    "print(\"The grocery store makes a total profit of $\", total_profit)"
   ]
  },
  {
   "cell_type": "markdown",
   "metadata": {},
   "source": [
    "### Detailed explanation:"
   ]
  },
  {
   "cell_type": "code",
   "execution_count": 16,
   "metadata": {},
   "outputs": [],
   "source": [
    "output_template = \"If a grocery store sells ice bags at $ {} per bag, with a profit margin of {} %, then the total profit it makes by selling {} ice bags is $ {}.\""
   ]
  },
  {
   "cell_type": "code",
   "execution_count": 18,
   "metadata": {},
   "outputs": [
    {
     "name": "stdout",
     "output_type": "stream",
     "text": [
      "If a grocery store sells ice bags at $ 1.25 per bag, with a profit margin of 20.0 %, then the total profit it makes by selling 500 ice bags is $ 125.0.\n"
     ]
    }
   ],
   "source": [
    "output_message = output_template.format(cost_of_ice_bag, profit_margin*100, number_of_bags, total_profit)\n",
    "print(output_message)"
   ]
  },
  {
   "cell_type": "markdown",
   "metadata": {},
   "source": [
    "# If-else"
   ]
  },
  {
   "cell_type": "code",
   "execution_count": 19,
   "metadata": {},
   "outputs": [],
   "source": [
    "a_number = 15"
   ]
  },
  {
   "cell_type": "code",
   "execution_count": 21,
   "metadata": {},
   "outputs": [
    {
     "name": "stdout",
     "output_type": "stream",
     "text": [
      "15 is odd\n",
      "15 is also divisibule by 5\n"
     ]
    }
   ],
   "source": [
    "if a_number % 2 == 0:\n",
    "    print(\"{} is even\".format(a_number))\n",
    "    if a_number % 3 == 0:\n",
    "        print(\"{} is also divisibule by 3\".format(a_number))\n",
    "    else:\n",
    "        print(\"{} is not divisibule by 3\".format(a_number))\n",
    "else:\n",
    "    print(\"{} is odd\".format(a_number))\n",
    "    if a_number % 5 == 0:\n",
    "        print(\"{} is also divisibule by 5\".format(a_number))\n",
    "    else:\n",
    "        print(\"{} is not divisibule by 5\".format(a_number))"
   ]
  },
  {
   "cell_type": "markdown",
   "metadata": {},
   "source": [
    "# Loops"
   ]
  },
  {
   "cell_type": "markdown",
   "metadata": {},
   "source": [
    "## while loop"
   ]
  },
  {
   "cell_type": "markdown",
   "metadata": {},
   "source": [
    "Factorial of 100 using while loop"
   ]
  },
  {
   "cell_type": "code",
   "execution_count": 2,
   "metadata": {},
   "outputs": [
    {
     "name": "stdout",
     "output_type": "stream",
     "text": [
      "The falctorial of 100 is 93326215443944152681699238856266700490715968264381621468592963895217599993229915608941463976156518286253697920827223758251185210916864000000000000000000000000\n",
      "CPU times: total: 15.6 ms\n",
      "Wall time: 6.51 ms\n"
     ]
    }
   ],
   "source": [
    "%%time\n",
    "\n",
    "result = 1\n",
    "i = 1\n",
    "\n",
    "while i <= 100:\n",
    "    result = result * i\n",
    "    i = i + 1\n",
    "print(\"The falctorial of 100 is {}\".format(result))"
   ]
  },
  {
   "cell_type": "markdown",
   "metadata": {},
   "source": [
    "Pattern using while loop"
   ]
  },
  {
   "cell_type": "code",
   "execution_count": 5,
   "metadata": {},
   "outputs": [
    {
     "name": "stdout",
     "output_type": "stream",
     "text": [
      "*\n",
      "**\n",
      "***\n",
      "****\n",
      "*****\n",
      "******\n",
      "*******\n",
      "********\n",
      "*********\n",
      "**********\n",
      "***********\n",
      "**********\n",
      "*********\n",
      "********\n",
      "*******\n",
      "******\n",
      "*****\n",
      "****\n",
      "***\n",
      "**\n",
      "*\n"
     ]
    }
   ],
   "source": [
    "line = \"*\"\n",
    "max_length = 10\n",
    "\n",
    "while len(line) <= max_length:\n",
    "    print(line)\n",
    "    line += \"*\"\n",
    "\n",
    "while len(line) > 0:\n",
    "    print(line)\n",
    "    line = line[:-1]"
   ]
  },
  {
   "cell_type": "code",
   "execution_count": 54,
   "metadata": {},
   "outputs": [
    {
     "name": "stdout",
     "output_type": "stream",
     "text": [
      "         *\n",
      "        **\n",
      "       ***\n",
      "      ****\n",
      "     *****\n",
      "    ******\n",
      "   *******\n",
      "  ********\n",
      " *********\n",
      "**********\n",
      " *********\n",
      "  ********\n",
      "   *******\n",
      "    ******\n",
      "     *****\n",
      "      ****\n",
      "       ***\n",
      "        **\n",
      "         *\n",
      "          \n"
     ]
    }
   ],
   "source": [
    "line = \"*\"\n",
    "max_length = 10\n",
    "space = \" \"\n",
    "i = 1\n",
    "\n",
    "while len(line) <= max_length:\n",
    "    while i < max_length:\n",
    "        print(space, end=\"\")\n",
    "        i += 1\n",
    "    print(line)\n",
    "    line += \"*\"\n",
    "    i = len(line)\n",
    "\n",
    "j = 1\n",
    "line = line[:-1]\n",
    "while len(line) > 0:\n",
    "    while j > 0:\n",
    "        print(space, end=\"\")\n",
    "        j -= 1\n",
    "    line = line[:-1]\n",
    "    print(line)\n",
    "    j = (max_length+1) - len(line)\n"
   ]
  },
  {
   "cell_type": "markdown",
   "metadata": {},
   "source": [
    "## for loop"
   ]
  },
  {
   "cell_type": "code",
   "execution_count": 55,
   "metadata": {},
   "outputs": [
    {
     "name": "stdout",
     "output_type": "stream",
     "text": [
      "monday\n",
      "tuesday\n",
      "wednesday\n",
      "Thursday\n",
      "frinday\n",
      "satuarday\n"
     ]
    }
   ],
   "source": [
    "days = [\"monday\", \"tuesday\", \"wednesday\", \"Thursday\", \"frinday\", \"satuarday\"]\n",
    "\n",
    "for day in days:\n",
    "    print(day)"
   ]
  },
  {
   "cell_type": "markdown",
   "metadata": {},
   "source": [
    "Looping over a dictionary\n"
   ]
  },
  {
   "cell_type": "code",
   "execution_count": 56,
   "metadata": {},
   "outputs": [
    {
     "name": "stdout",
     "output_type": "stream",
     "text": [
      "Key: name  ,  value: Varun Singh\n",
      "Key: sex  ,  value: Male\n",
      "Key: age  ,  value: 32\n",
      "Key: married  ,  value: False\n"
     ]
    }
   ],
   "source": [
    "person = {\n",
    "    'name': \"Varun Singh\",\n",
    "    'sex' : 'Male',\n",
    "    'age' : 32,\n",
    "    'married' : False\n",
    "}\n",
    "\n",
    "for key in person:\n",
    "    print('Key:', key,  \" , \", \"value:\", person[key])"
   ]
  },
  {
   "cell_type": "code",
   "execution_count": 57,
   "metadata": {},
   "outputs": [
    {
     "name": "stdout",
     "output_type": "stream",
     "text": [
      "Varun Singh\n",
      "Male\n",
      "32\n",
      "False\n"
     ]
    }
   ],
   "source": [
    "for value in person.values():\n",
    "    print(value)"
   ]
  },
  {
   "cell_type": "code",
   "execution_count": 59,
   "metadata": {},
   "outputs": [
    {
     "name": "stdout",
     "output_type": "stream",
     "text": [
      "('name', 'Varun Singh')\n",
      "('sex', 'Male')\n",
      "('age', 32)\n",
      "('married', False)\n"
     ]
    }
   ],
   "source": [
    "for key_value_pair in person.items():\n",
    "    print(key_value_pair)"
   ]
  },
  {
   "cell_type": "markdown",
   "metadata": {},
   "source": [
    "# Functions in python\n"
   ]
  },
  {
   "cell_type": "code",
   "execution_count": 61,
   "metadata": {},
   "outputs": [
    {
     "name": "stdout",
     "output_type": "stream",
     "text": [
      "Hollo there!\n"
     ]
    }
   ],
   "source": [
    "def say_hello():\n",
    "    print('Hollo there!')\n",
    "\n",
    "\n",
    "say_hello()"
   ]
  },
  {
   "cell_type": "markdown",
   "metadata": {},
   "source": [
    "## Function arguments\n"
   ]
  },
  {
   "cell_type": "code",
   "execution_count": 62,
   "metadata": {},
   "outputs": [
    {
     "name": "stdout",
     "output_type": "stream",
     "text": [
      "Hello varun\n"
     ]
    }
   ],
   "source": [
    "def say_hello(name):\n",
    "    print(\"Hello {}\".format(name))\n",
    "\n",
    "say_hello(\"varun\")"
   ]
  },
  {
   "cell_type": "code",
   "execution_count": 63,
   "metadata": {},
   "outputs": [
    {
     "data": {
      "text/plain": [
       "[2, 4, 6, 8]"
      ]
     },
     "execution_count": 63,
     "metadata": {},
     "output_type": "execute_result"
    }
   ],
   "source": [
    "def filter_even(number_list):\n",
    "    result_list = []\n",
    "    for number in number_list:\n",
    "        if number % 2 == 0:\n",
    "            result_list.append(number)\n",
    "    return result_list\n",
    "\n",
    "even_list = filter_even([1,2,3,4,5,6,7,8,9])\n",
    "even_list"
   ]
  },
  {
   "cell_type": "markdown",
   "metadata": {},
   "source": [
    "### Radha house buying problem: solved\n"
   ]
  },
  {
   "cell_type": "code",
   "execution_count": 104,
   "metadata": {},
   "outputs": [],
   "source": [
    "import math\n",
    "def loan_emi(amount, duration, rate, down_payment = 0):\n",
    "    \"\"\"Calculates the Equal Monthly Installment (EMI) for a loan\"\"\"\n",
    "    loan_amount = amount - down_payment\n",
    "    try: \n",
    "        emi = loan_amount * rate * ((1+rate)**duration) / (((1+rate)**duration)-1)\n",
    "    except ZeroDivisionError:\n",
    "        emi = loan_amount / duration\n",
    "    return math.ceil(emi)\n",
    "\n",
    "emi1 = loan_emi(\n",
    "    amount=1260000, \n",
    "    duration=8*12, \n",
    "    rate=0.1/12, \n",
    "    down_payment=3e5\n",
    ")\n",
    "emi2 = loan_emi(\n",
    "    amount=1260000, \n",
    "    duration=10*12, \n",
    "    rate=0.08/12\n",
    ")"
   ]
  },
  {
   "cell_type": "code",
   "execution_count": 105,
   "metadata": {},
   "outputs": [
    {
     "data": {
      "text/plain": [
       "14568"
      ]
     },
     "execution_count": 105,
     "metadata": {},
     "output_type": "execute_result"
    }
   ],
   "source": [
    "emi1"
   ]
  },
  {
   "cell_type": "code",
   "execution_count": 106,
   "metadata": {},
   "outputs": [
    {
     "data": {
      "text/plain": [
       "15288"
      ]
     },
     "execution_count": 106,
     "metadata": {},
     "output_type": "execute_result"
    }
   ],
   "source": [
    "emi2"
   ]
  },
  {
   "cell_type": "code",
   "execution_count": 107,
   "metadata": {},
   "outputs": [
    {
     "data": {
      "text/plain": [
       "'Option 1 has the lower EMI: $14568'"
      ]
     },
     "execution_count": 107,
     "metadata": {},
     "output_type": "execute_result"
    }
   ],
   "source": [
    "def check_lower_emi(emi1, emi2):\n",
    "    if emi1 < emi2:\n",
    "        return \"Option 1 has the lower EMI: ${}\".format(emi1)\n",
    "    else:\n",
    "        return \"Option 2 has the lower EMI: ${}\".format(emi2)   \n",
    "\n",
    "check_lower_emi(emi1=emi1, emi2=emi2)"
   ]
  },
  {
   "cell_type": "markdown",
   "metadata": {},
   "source": [
    "### Shoun house and car buying problem"
   ]
  },
  {
   "cell_type": "code",
   "execution_count": 108,
   "metadata": {},
   "outputs": [
    {
     "data": {
      "text/plain": [
       "10230"
      ]
     },
     "execution_count": 108,
     "metadata": {},
     "output_type": "execute_result"
    }
   ],
   "source": [
    "cost_of_the_house = 800000\n",
    "home_loan_duration = 6 * 12\n",
    "home_loan_rate = 0.07 / 12\n",
    "home_down_payment = .25 * 800000\n",
    "\n",
    "emi_house = loan_emi(amount=cost_of_the_house,\n",
    "                     duration=home_loan_duration,\n",
    "                     rate=home_loan_rate,\n",
    "                     down_payment=home_down_payment) \n",
    "emi_house"
   ]
  },
  {
   "cell_type": "code",
   "execution_count": 109,
   "metadata": {},
   "outputs": [
    {
     "data": {
      "text/plain": [
       "5331"
      ]
     },
     "execution_count": 109,
     "metadata": {},
     "output_type": "execute_result"
    }
   ],
   "source": [
    "cost_of_car = 60000\n",
    "car_loan_duration = 1*12\n",
    "car_loan_rate = .12/12\n",
    "\n",
    "emi_car = loan_emi(amount=cost_of_car, \n",
    "                   duration=car_loan_duration, \n",
    "                   rate=car_loan_rate)\n",
    "\n",
    "emi_car"
   ]
  },
  {
   "cell_type": "code",
   "execution_count": 110,
   "metadata": {},
   "outputs": [
    {
     "name": "stdout",
     "output_type": "stream",
     "text": [
      "Shaun's monthly EMI is: $15561\n"
     ]
    }
   ],
   "source": [
    "total_emi = emi_house + emi_car\n",
    "print(\"Shaun's monthly EMI is: ${}\".format(total_emi))"
   ]
  },
  {
   "cell_type": "markdown",
   "metadata": {},
   "source": [
    "### With Interest and without Interest problem"
   ]
  },
  {
   "cell_type": "code",
   "execution_count": 111,
   "metadata": {},
   "outputs": [
    {
     "name": "stdout",
     "output_type": "stream",
     "text": [
      "The total interest paid is $51960\n"
     ]
    }
   ],
   "source": [
    "emi_with_interest = loan_emi(amount=100000, duration=10*12, rate= 0.09/12)\n",
    "emi_without_interest = loan_emi(amount=100000, duration=10*12, rate= 0./12)\n",
    "\n",
    "total_interest = (emi_with_interest - emi_without_interest) * 10*12\n",
    "print(\"The total interest paid is ${}\".format(total_interest))"
   ]
  },
  {
   "cell_type": "code",
   "execution_count": 112,
   "metadata": {},
   "outputs": [
    {
     "name": "stdout",
     "output_type": "stream",
     "text": [
      "Help on function loan_emi in module __main__:\n",
      "\n",
      "loan_emi(amount, duration, rate, down_payment=0)\n",
      "    Calculates the Equal Monthly Installment (EMI) for a loan\n",
      "\n"
     ]
    }
   ],
   "source": [
    "help(loan_emi)"
   ]
  },
  {
   "cell_type": "markdown",
   "metadata": {},
   "source": [
    "# Numerical computing with Numpy"
   ]
  },
  {
   "cell_type": "markdown",
   "metadata": {},
   "source": [
    "## Apple and region problem"
   ]
  },
  {
   "cell_type": "code",
   "execution_count": 1,
   "metadata": {},
   "outputs": [],
   "source": [
    "weights = [0.3, 0.2, 0.5]\n",
    "kanto = [73, 67, 43]\n",
    "johto = [91, 88, 64]\n",
    "hoenn = [87, 134, 43]\n",
    "sinnoh = [102, 43, 37]\n",
    "unova = [69, 96, 70]\n",
    "\n",
    "def crop_yield(region, weights):\n",
    "    result = 0\n",
    "    for x, w in zip(region, weights):\n",
    "        result += x * w\n",
    "    return result"
   ]
  },
  {
   "cell_type": "code",
   "execution_count": 2,
   "metadata": {},
   "outputs": [
    {
     "name": "stdout",
     "output_type": "stream",
     "text": [
      "56.8\n"
     ]
    }
   ],
   "source": [
    "print(crop_yield(kanto, weights))"
   ]
  },
  {
   "cell_type": "code",
   "execution_count": 3,
   "metadata": {},
   "outputs": [
    {
     "name": "stdout",
     "output_type": "stream",
     "text": [
      "76.9\n"
     ]
    }
   ],
   "source": [
    "print(crop_yield(johto, weights))"
   ]
  },
  {
   "cell_type": "code",
   "execution_count": 4,
   "metadata": {},
   "outputs": [
    {
     "name": "stdout",
     "output_type": "stream",
     "text": [
      "74.4\n"
     ]
    }
   ],
   "source": [
    "print(crop_yield(hoenn, weights))"
   ]
  },
  {
   "cell_type": "code",
   "execution_count": 5,
   "metadata": {},
   "outputs": [
    {
     "name": "stdout",
     "output_type": "stream",
     "text": [
      "57.699999999999996\n"
     ]
    }
   ],
   "source": [
    "print(crop_yield(sinnoh, weights))"
   ]
  },
  {
   "cell_type": "code",
   "execution_count": 6,
   "metadata": {},
   "outputs": [
    {
     "name": "stdout",
     "output_type": "stream",
     "text": [
      "74.9\n"
     ]
    }
   ],
   "source": [
    "print(crop_yield(unova, weights))"
   ]
  },
  {
   "cell_type": "markdown",
   "metadata": {},
   "source": [
    "## Going from Python lists to Numpy Array"
   ]
  },
  {
   "cell_type": "code",
   "execution_count": 7,
   "metadata": {},
   "outputs": [
    {
     "name": "stdout",
     "output_type": "stream",
     "text": [
      "Collecting numpy"
     ]
    },
    {
     "name": "stderr",
     "output_type": "stream",
     "text": [
      "  WARNING: Failed to write executable - trying to use .deleteme logic\n",
      "ERROR: Could not install packages due to an OSError: [WinError 2] The system cannot find the file specified: 'C:\\\\Python312\\\\Scripts\\\\f2py.exe' -> 'C:\\\\Python312\\\\Scripts\\\\f2py.exe.deleteme'\n",
      "\n",
      "\n",
      "[notice] A new release of pip is available: 23.2.1 -> 24.2\n",
      "[notice] To update, run: python.exe -m pip install --upgrade pip\n"
     ]
    },
    {
     "name": "stdout",
     "output_type": "stream",
     "text": [
      "\n",
      "  Obtaining dependency information for numpy from https://files.pythonhosted.org/packages/b7/98/5640a09daa3abf0caeaefa6e7bf0d10c0aa28a77c84e507d6a716e0e23df/numpy-2.1.1-cp312-cp312-win_amd64.whl.metadata\n",
      "  Downloading numpy-2.1.1-cp312-cp312-win_amd64.whl.metadata (59 kB)\n",
      "     ---------------------------------------- 0.0/59.7 kB ? eta -:--:--\n",
      "     ------------- ------------------------ 20.5/59.7 kB 682.7 kB/s eta 0:00:01\n",
      "     -------------------------------------- 59.7/59.7 kB 634.7 kB/s eta 0:00:00\n",
      "Downloading numpy-2.1.1-cp312-cp312-win_amd64.whl (12.6 MB)\n",
      "   ---------------------------------------- 0.0/12.6 MB ? eta -:--:--\n",
      "   ---------------------------------------- 0.1/12.6 MB 2.6 MB/s eta 0:00:05\n",
      "    --------------------------------------- 0.2/12.6 MB 3.4 MB/s eta 0:00:04\n",
      "   - -------------------------------------- 0.3/12.6 MB 2.7 MB/s eta 0:00:05\n",
      "   - -------------------------------------- 0.4/12.6 MB 2.4 MB/s eta 0:00:05\n",
      "   - -------------------------------------- 0.5/12.6 MB 2.4 MB/s eta 0:00:05\n",
      "   -- ------------------------------------- 0.6/12.6 MB 2.4 MB/s eta 0:00:05\n",
      "   -- ------------------------------------- 0.7/12.6 MB 2.3 MB/s eta 0:00:06\n",
      "   -- ------------------------------------- 0.9/12.6 MB 2.4 MB/s eta 0:00:05\n",
      "   --- ------------------------------------ 1.0/12.6 MB 2.4 MB/s eta 0:00:05\n",
      "   --- ------------------------------------ 1.1/12.6 MB 2.5 MB/s eta 0:00:05\n",
      "   --- ------------------------------------ 1.2/12.6 MB 2.4 MB/s eta 0:00:05\n",
      "   ---- ----------------------------------- 1.4/12.6 MB 2.6 MB/s eta 0:00:05\n",
      "   ---- ----------------------------------- 1.5/12.6 MB 2.6 MB/s eta 0:00:05\n",
      "   ----- ---------------------------------- 1.6/12.6 MB 2.6 MB/s eta 0:00:05\n",
      "   ----- ---------------------------------- 1.8/12.6 MB 2.6 MB/s eta 0:00:05\n",
      "   ------ --------------------------------- 1.9/12.6 MB 2.6 MB/s eta 0:00:05\n",
      "   ------ --------------------------------- 2.1/12.6 MB 2.6 MB/s eta 0:00:05\n",
      "   ------ --------------------------------- 2.1/12.6 MB 2.6 MB/s eta 0:00:04\n",
      "   ------ --------------------------------- 2.1/12.6 MB 2.6 MB/s eta 0:00:04\n",
      "   ------ --------------------------------- 2.1/12.6 MB 2.6 MB/s eta 0:00:04\n",
      "   ------ --------------------------------- 2.2/12.6 MB 2.3 MB/s eta 0:00:05\n",
      "   ------ --------------------------------- 2.2/12.6 MB 2.3 MB/s eta 0:00:05\n",
      "   ------ --------------------------------- 2.2/12.6 MB 2.3 MB/s eta 0:00:05\n",
      "   ------ --------------------------------- 2.2/12.6 MB 2.3 MB/s eta 0:00:05\n",
      "   ------ --------------------------------- 2.2/12.6 MB 2.3 MB/s eta 0:00:05\n",
      "   ------ --------------------------------- 2.2/12.6 MB 1.8 MB/s eta 0:00:06\n",
      "   ------- -------------------------------- 2.2/12.6 MB 1.8 MB/s eta 0:00:06\n",
      "   ------- -------------------------------- 2.4/12.6 MB 1.9 MB/s eta 0:00:06\n",
      "   ------- -------------------------------- 2.5/12.6 MB 1.9 MB/s eta 0:00:06\n",
      "   -------- ------------------------------- 2.7/12.6 MB 1.9 MB/s eta 0:00:06\n",
      "   -------- ------------------------------- 2.7/12.6 MB 1.9 MB/s eta 0:00:06\n",
      "   -------- ------------------------------- 2.8/12.6 MB 1.9 MB/s eta 0:00:06\n",
      "   --------- ------------------------------ 2.9/12.6 MB 1.9 MB/s eta 0:00:06\n",
      "   --------- ------------------------------ 3.0/12.6 MB 1.9 MB/s eta 0:00:06\n",
      "   --------- ------------------------------ 3.1/12.6 MB 1.9 MB/s eta 0:00:05\n",
      "   ---------- ----------------------------- 3.2/12.6 MB 1.9 MB/s eta 0:00:05\n",
      "   ---------- ----------------------------- 3.3/12.6 MB 2.0 MB/s eta 0:00:05\n",
      "   ----------- ---------------------------- 3.5/12.6 MB 2.0 MB/s eta 0:00:05\n",
      "   ----------- ---------------------------- 3.6/12.6 MB 2.0 MB/s eta 0:00:05\n",
      "   ----------- ---------------------------- 3.7/12.6 MB 2.0 MB/s eta 0:00:05\n",
      "   ------------ --------------------------- 3.8/12.6 MB 2.0 MB/s eta 0:00:05\n",
      "   ------------ --------------------------- 4.0/12.6 MB 2.0 MB/s eta 0:00:05\n",
      "   ------------ --------------------------- 4.1/12.6 MB 2.0 MB/s eta 0:00:05\n",
      "   ------------- -------------------------- 4.2/12.6 MB 2.1 MB/s eta 0:00:05\n",
      "   ------------- -------------------------- 4.3/12.6 MB 2.1 MB/s eta 0:00:04\n",
      "   -------------- ------------------------- 4.4/12.6 MB 2.1 MB/s eta 0:00:04\n",
      "   -------------- ------------------------- 4.6/12.6 MB 2.1 MB/s eta 0:00:04\n",
      "   -------------- ------------------------- 4.7/12.6 MB 2.1 MB/s eta 0:00:04\n",
      "   --------------- ------------------------ 4.8/12.6 MB 2.1 MB/s eta 0:00:04\n",
      "   --------------- ------------------------ 4.9/12.6 MB 2.1 MB/s eta 0:00:04\n",
      "   --------------- ------------------------ 5.0/12.6 MB 2.1 MB/s eta 0:00:04\n",
      "   ---------------- ----------------------- 5.1/12.6 MB 2.1 MB/s eta 0:00:04\n",
      "   ---------------- ----------------------- 5.2/12.6 MB 2.1 MB/s eta 0:00:04\n",
      "   ----------------- ---------------------- 5.4/12.6 MB 2.2 MB/s eta 0:00:04\n",
      "   ----------------- ---------------------- 5.5/12.6 MB 2.2 MB/s eta 0:00:04\n",
      "   ----------------- ---------------------- 5.6/12.6 MB 2.2 MB/s eta 0:00:04\n",
      "   ------------------ --------------------- 5.7/12.6 MB 2.2 MB/s eta 0:00:04\n",
      "   ------------------ --------------------- 5.8/12.6 MB 2.2 MB/s eta 0:00:04\n",
      "   ------------------ --------------------- 5.9/12.6 MB 2.2 MB/s eta 0:00:04\n",
      "   ------------------- -------------------- 6.1/12.6 MB 2.2 MB/s eta 0:00:03\n",
      "   ------------------- -------------------- 6.2/12.6 MB 2.2 MB/s eta 0:00:03\n",
      "   -------------------- ------------------- 6.3/12.6 MB 2.2 MB/s eta 0:00:03\n",
      "   -------------------- ------------------- 6.5/12.6 MB 2.2 MB/s eta 0:00:03\n",
      "   -------------------- ------------------- 6.6/12.6 MB 2.2 MB/s eta 0:00:03\n",
      "   --------------------- ------------------ 6.7/12.6 MB 2.2 MB/s eta 0:00:03\n",
      "   --------------------- ------------------ 6.8/12.6 MB 2.2 MB/s eta 0:00:03\n",
      "   ---------------------- ----------------- 6.9/12.6 MB 2.2 MB/s eta 0:00:03\n",
      "   ---------------------- ----------------- 7.0/12.6 MB 2.2 MB/s eta 0:00:03\n",
      "   ---------------------- ----------------- 7.1/12.6 MB 2.2 MB/s eta 0:00:03\n",
      "   ----------------------- ---------------- 7.3/12.6 MB 2.3 MB/s eta 0:00:03\n",
      "   ----------------------- ---------------- 7.4/12.6 MB 2.2 MB/s eta 0:00:03\n",
      "   ----------------------- ---------------- 7.5/12.6 MB 2.3 MB/s eta 0:00:03\n",
      "   ------------------------ --------------- 7.7/12.6 MB 2.3 MB/s eta 0:00:03\n",
      "   ------------------------ --------------- 7.8/12.6 MB 2.3 MB/s eta 0:00:03\n",
      "   ------------------------ --------------- 7.9/12.6 MB 2.3 MB/s eta 0:00:03\n",
      "   ------------------------- -------------- 8.0/12.6 MB 2.3 MB/s eta 0:00:03\n",
      "   ------------------------- -------------- 8.1/12.6 MB 2.3 MB/s eta 0:00:02\n",
      "   -------------------------- ------------- 8.2/12.6 MB 2.3 MB/s eta 0:00:02\n",
      "   -------------------------- ------------- 8.4/12.6 MB 2.3 MB/s eta 0:00:02\n",
      "   -------------------------- ------------- 8.5/12.6 MB 2.3 MB/s eta 0:00:02\n",
      "   --------------------------- ------------ 8.6/12.6 MB 2.3 MB/s eta 0:00:02\n",
      "   --------------------------- ------------ 8.7/12.6 MB 2.3 MB/s eta 0:00:02\n",
      "   ---------------------------- ----------- 8.8/12.6 MB 2.3 MB/s eta 0:00:02\n",
      "   ---------------------------- ----------- 8.9/12.6 MB 2.3 MB/s eta 0:00:02\n",
      "   ---------------------------- ----------- 9.1/12.6 MB 2.3 MB/s eta 0:00:02\n",
      "   ----------------------------- ---------- 9.2/12.6 MB 2.3 MB/s eta 0:00:02\n",
      "   ----------------------------- ---------- 9.3/12.6 MB 2.3 MB/s eta 0:00:02\n",
      "   ------------------------------ --------- 9.5/12.6 MB 2.3 MB/s eta 0:00:02\n",
      "   ------------------------------ --------- 9.6/12.6 MB 2.3 MB/s eta 0:00:02\n",
      "   ------------------------------ --------- 9.7/12.6 MB 2.3 MB/s eta 0:00:02\n",
      "   ------------------------------- -------- 9.8/12.6 MB 2.3 MB/s eta 0:00:02\n",
      "   ------------------------------- -------- 9.9/12.6 MB 2.3 MB/s eta 0:00:02\n",
      "   -------------------------------- ------- 10.1/12.6 MB 2.3 MB/s eta 0:00:02\n",
      "   -------------------------------- ------- 10.2/12.6 MB 2.3 MB/s eta 0:00:01\n",
      "   -------------------------------- ------- 10.3/12.6 MB 2.3 MB/s eta 0:00:01\n",
      "   --------------------------------- ------ 10.5/12.6 MB 2.3 MB/s eta 0:00:01\n",
      "   --------------------------------- ------ 10.6/12.6 MB 2.3 MB/s eta 0:00:01\n",
      "   ---------------------------------- ----- 10.7/12.6 MB 2.4 MB/s eta 0:00:01\n",
      "   ---------------------------------- ----- 10.9/12.6 MB 2.4 MB/s eta 0:00:01\n",
      "   ----------------------------------- ---- 11.0/12.6 MB 2.4 MB/s eta 0:00:01\n",
      "   ----------------------------------- ---- 11.2/12.6 MB 2.4 MB/s eta 0:00:01\n",
      "   ------------------------------------ --- 11.3/12.6 MB 2.4 MB/s eta 0:00:01\n",
      "   ------------------------------------ --- 11.4/12.6 MB 2.4 MB/s eta 0:00:01\n",
      "   ------------------------------------ --- 11.6/12.6 MB 2.4 MB/s eta 0:00:01\n",
      "   ------------------------------------- -- 11.7/12.6 MB 2.4 MB/s eta 0:00:01\n",
      "   ------------------------------------- -- 11.8/12.6 MB 2.4 MB/s eta 0:00:01\n",
      "   -------------------------------------- - 12.0/12.6 MB 2.4 MB/s eta 0:00:01\n",
      "   -------------------------------------- - 12.0/12.6 MB 2.4 MB/s eta 0:00:01\n",
      "   -------------------------------------- - 12.2/12.6 MB 2.4 MB/s eta 0:00:01\n",
      "   ---------------------------------------  12.3/12.6 MB 2.4 MB/s eta 0:00:01\n",
      "   ---------------------------------------  12.4/12.6 MB 2.6 MB/s eta 0:00:01\n",
      "   ---------------------------------------  12.6/12.6 MB 2.6 MB/s eta 0:00:01\n",
      "   ---------------------------------------  12.6/12.6 MB 2.6 MB/s eta 0:00:01\n",
      "   ---------------------------------------  12.6/12.6 MB 2.6 MB/s eta 0:00:01\n",
      "   ---------------------------------------- 12.6/12.6 MB 2.5 MB/s eta 0:00:00\n",
      "Installing collected packages: numpy\n"
     ]
    }
   ],
   "source": [
    "!pip install numpy"
   ]
  },
  {
   "cell_type": "code",
   "execution_count": 8,
   "metadata": {},
   "outputs": [
    {
     "data": {
      "text/plain": [
       "array([73, 67, 43])"
      ]
     },
     "execution_count": 8,
     "metadata": {},
     "output_type": "execute_result"
    }
   ],
   "source": [
    "import numpy as np\n",
    "\n",
    "kanto  = np.array([73, 67, 43])\n",
    "kanto"
   ]
  },
  {
   "cell_type": "code",
   "execution_count": 9,
   "metadata": {},
   "outputs": [],
   "source": [
    "weights = np.array([0.3, 0.2, 0.5])"
   ]
  },
  {
   "cell_type": "code",
   "execution_count": 10,
   "metadata": {},
   "outputs": [
    {
     "data": {
      "text/plain": [
       "array([0.3, 0.2, 0.5])"
      ]
     },
     "execution_count": 10,
     "metadata": {},
     "output_type": "execute_result"
    }
   ],
   "source": [
    "weights"
   ]
  },
  {
   "cell_type": "code",
   "execution_count": 11,
   "metadata": {},
   "outputs": [
    {
     "data": {
      "text/plain": [
       "np.float64(56.8)"
      ]
     },
     "execution_count": 11,
     "metadata": {},
     "output_type": "execute_result"
    }
   ],
   "source": [
    "np.dot(kanto, weights)"
   ]
  },
  {
   "cell_type": "code",
   "execution_count": 12,
   "metadata": {},
   "outputs": [
    {
     "data": {
      "text/plain": [
       "np.float64(56.8)"
      ]
     },
     "execution_count": 12,
     "metadata": {},
     "output_type": "execute_result"
    }
   ],
   "source": [
    "(kanto * weights).sum()"
   ]
  },
  {
   "cell_type": "code",
   "execution_count": null,
   "metadata": {},
   "outputs": [],
   "source": []
  }
 ],
 "metadata": {
  "kernelspec": {
   "display_name": "Python 3",
   "language": "python",
   "name": "python3"
  },
  "language_info": {
   "codemirror_mode": {
    "name": "ipython",
    "version": 3
   },
   "file_extension": ".py",
   "mimetype": "text/x-python",
   "name": "python",
   "nbconvert_exporter": "python",
   "pygments_lexer": "ipython3",
   "version": "3.12.0"
  }
 },
 "nbformat": 4,
 "nbformat_minor": 2
}
